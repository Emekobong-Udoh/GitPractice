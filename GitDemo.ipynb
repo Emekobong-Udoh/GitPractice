{
 "cells": [
  {
   "cell_type": "code",
   "execution_count": 1,
   "id": "ea9587bc",
   "metadata": {},
   "outputs": [],
   "source": [
    "import pandas as pd\n",
    "import numpy as np"
   ]
  },
  {
   "cell_type": "code",
   "execution_count": 2,
   "id": "10f6d783",
   "metadata": {},
   "outputs": [
    {
     "name": "stdout",
     "output_type": "stream",
     "text": [
      "I will persist until I win\n"
     ]
    }
   ],
   "source": [
    "print(\"I will persist until I win\")"
   ]
  },
  {
   "cell_type": "code",
   "execution_count": 3,
   "id": "8c2e517b",
   "metadata": {},
   "outputs": [
    {
     "name": "stdout",
     "output_type": "stream",
     "text": [
      "Giving up is for the weak\n"
     ]
    }
   ],
   "source": [
    "print(\"Giving up is for the weak\")"
   ]
  },
  {
   "cell_type": "code",
   "execution_count": 4,
   "id": "ba1954bf",
   "metadata": {},
   "outputs": [
    {
     "name": "stdout",
     "output_type": "stream",
     "text": [
      "I press towards the mark for the prize of the High Calling\n"
     ]
    }
   ],
   "source": [
    "print(\"I press towards the mark for the prize of the High Calling\")"
   ]
  },
  {
   "cell_type": "code",
   "execution_count": 5,
   "id": "6e96bb94",
   "metadata": {},
   "outputs": [
    {
     "name": "stdout",
     "output_type": "stream",
     "text": [
      "My new default browser is google chrome\n"
     ]
    }
   ],
   "source": [
    "print(\"My new default browser is google chrome\")"
   ]
  },
  {
   "cell_type": "code",
   "execution_count": 6,
   "id": "573b2d6d",
   "metadata": {},
   "outputs": [
    {
     "name": "stdout",
     "output_type": "stream",
     "text": [
      "2\n"
     ]
    }
   ],
   "source": [
    "print(1 + 1)"
   ]
  },
  {
   "cell_type": "code",
   "execution_count": 7,
   "id": "4734fe96",
   "metadata": {},
   "outputs": [
    {
     "name": "stdout",
     "output_type": "stream",
     "text": [
      "Git merge is a powerful tool\n"
     ]
    }
   ],
   "source": [
    "print(\"Git merge is a powerful tool\")"
   ]
  },
  {
   "cell_type": "code",
   "execution_count": null,
   "id": "8bbd857a",
   "metadata": {},
   "outputs": [],
   "source": []
  }
 ],
 "metadata": {
  "kernelspec": {
   "display_name": "Python 3 (ipykernel)",
   "language": "python",
   "name": "python3"
  },
  "language_info": {
   "codemirror_mode": {
    "name": "ipython",
    "version": 3
   },
   "file_extension": ".py",
   "mimetype": "text/x-python",
   "name": "python",
   "nbconvert_exporter": "python",
   "pygments_lexer": "ipython3",
   "version": "3.9.7"
  }
 },
 "nbformat": 4,
 "nbformat_minor": 5
}
